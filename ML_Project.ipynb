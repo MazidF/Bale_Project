{
  "nbformat": 4,
  "nbformat_minor": 0,
  "metadata": {
    "colab": {
      "provenance": [],
      "mount_file_id": "1_aYwrPpPVwYz1r_h_4yrIlAuHVIChcl0",
      "authorship_tag": "ABX9TyPCJsMsLy3AIKwRoNiK5nPK",
      "include_colab_link": true
    },
    "kernelspec": {
      "name": "python3",
      "display_name": "Python 3"
    },
    "language_info": {
      "name": "python"
    }
  },
  "cells": [
    {
      "cell_type": "markdown",
      "metadata": {
        "id": "view-in-github",
        "colab_type": "text"
      },
      "source": [
        "<a href=\"https://colab.research.google.com/github/MazidF/Bale_Project/blob/master/ML_Project.ipynb\" target=\"_parent\"><img src=\"https://colab.research.google.com/assets/colab-badge.svg\" alt=\"Open In Colab\"/></a>"
      ]
    },
    {
      "cell_type": "code",
      "execution_count": 1,
      "metadata": {
        "id": "VvaSUbebOo-i"
      },
      "outputs": [],
      "source": [
        "import numpy as np\n",
        "import pandas as pd\n",
        "import matplotlib.pyplot as plt\n",
        "\n",
        "import cv2\n",
        "import os\n",
        "\n",
        "import tensorflow as tf\n",
        "import tensorflow.keras\n",
        "from keras.models import Sequential\n",
        "from keras.layers import Dense, Conv2D, Dropout, Flatten, MaxPooling2D"
      ]
    },
    {
      "cell_type": "markdown",
      "source": [
        "Resize image files. (100 x 100)"
      ],
      "metadata": {
        "id": "PfUvQDGVPZrk"
      }
    },
    {
      "cell_type": "code",
      "source": [
        "from PIL import Image\n",
        "\n",
        "def resize_images(images):\n",
        "  for image in images:\n",
        "    im = Image.open(image)\n",
        "    im = im.resize((100, 100))\n",
        "    try:\n",
        "      im.save(image)\n",
        "    except Exception as e:\n",
        "      im = im.convert('RGB')\n",
        "      im.save(image)"
      ],
      "metadata": {
        "id": "KMb1PpqEO580"
      },
      "execution_count": 2,
      "outputs": []
    },
    {
      "cell_type": "markdown",
      "source": [
        "Get all images path in a folder."
      ],
      "metadata": {
        "id": "Tnb2hU4mQUtA"
      }
    },
    {
      "cell_type": "code",
      "source": [
        "def load_images_path_from_folder(folder):\n",
        "    paths = []\n",
        "    for filename in os.listdir(folder):\n",
        "      path = os.path.join(folder,filename)\n",
        "      img = cv2.imread(path)\n",
        "      if img is not None:\n",
        "        paths.append(path)\n",
        "    return paths\n"
      ],
      "metadata": {
        "id": "QQSoDbC1RMfl"
      },
      "execution_count": 3,
      "outputs": []
    },
    {
      "cell_type": "markdown",
      "source": [
        "Load all images data in a folder."
      ],
      "metadata": {
        "id": "aZBFYj6dxAhF"
      }
    },
    {
      "cell_type": "code",
      "source": [
        "def laod_images_data_by_paths(paths):\n",
        "    images = []\n",
        "    for path in paths:\n",
        "        img = cv2.imread(path)\n",
        "        if img is not None:\n",
        "            images.append(img)\n",
        "    return images"
      ],
      "metadata": {
        "id": "PXDe3jF_xECL"
      },
      "execution_count": 4,
      "outputs": []
    },
    {
      "cell_type": "markdown",
      "source": [
        "Check if images need to be resized to (100 x 100)."
      ],
      "metadata": {
        "id": "ESicXlTneENk"
      }
    },
    {
      "cell_type": "code",
      "source": [
        "def need_resizing():\n",
        "    with open('/content/drive/MyDrive/ML Project/info.txt', 'r') as file:\n",
        "        return file.readline() == 'FALSE'"
      ],
      "metadata": {
        "id": "GkdrbNffeJyA"
      },
      "execution_count": 5,
      "outputs": []
    },
    {
      "cell_type": "markdown",
      "source": [
        "Update resize state of images."
      ],
      "metadata": {
        "id": "ZTibdFYMi_0p"
      }
    },
    {
      "cell_type": "code",
      "source": [
        "def change_resizing_state(state: bool):\n",
        "    with open('/content/drive/MyDrive/ML Project/info.txt', 'w') as file:\n",
        "        if state:\n",
        "            text = 'TRUE'\n",
        "        else:\n",
        "            text = 'FALSE'\n",
        "        file.write(text)"
      ],
      "metadata": {
        "id": "d6NCuQGCjD_P"
      },
      "execution_count": 6,
      "outputs": []
    },
    {
      "cell_type": "markdown",
      "source": [
        "Load and resize all images."
      ],
      "metadata": {
        "id": "IUJODWJwvNC9"
      }
    },
    {
      "cell_type": "code",
      "source": [
        "def load_and_resize_images_from_folders(folders):\n",
        "    resize = need_resizing()\n",
        "    images = []\n",
        "    for folder in folders:\n",
        "        images_path = load_images_path_from_folder(folder)\n",
        "        if resize:\n",
        "            resize_images(images_path)\n",
        "        images.append(laod_images_data_by_paths(images_path))\n",
        "    change_resizing_state(True)\n",
        "    return images"
      ],
      "metadata": {
        "id": "CAMeXDQovQje"
      },
      "execution_count": 7,
      "outputs": []
    },
    {
      "cell_type": "code",
      "source": [
        "root_path = '/content/drive/MyDrive/ML Project/images'\n",
        "names = [\n",
        "    '206',\n",
        "    'samand',\n",
        "    'peraid',\n",
        "    'tiba'\n",
        "]\n",
        "folders = [root_path + '/' + name for name in names]\n",
        "images = load_and_resize_images_from_folders(folders)\n",
        "for index, name in enumerate(names):\n",
        "    print(f'{name} count: {len(images[index])}')"
      ],
      "metadata": {
        "colab": {
          "base_uri": "https://localhost:8080/"
        },
        "id": "nUH5NOiyxm_V",
        "outputId": "4d1f3859-de35-4241-9656-5bce24b3e639"
      },
      "execution_count": 8,
      "outputs": [
        {
          "output_type": "stream",
          "name": "stdout",
          "text": [
            "206 count: 593\n",
            "samand count: 459\n",
            "peraid count: 503\n",
            "tiba count: 491\n"
          ]
        }
      ]
    },
    {
      "cell_type": "markdown",
      "source": [
        "Create a data set with label."
      ],
      "metadata": {
        "id": "FOKb0bTGwKqv"
      }
    },
    {
      "cell_type": "code",
      "source": [
        "# use numeric labels. for example samand's label --> [0, 1, ... , 0] (becuase second name is samand)\n",
        "labels = [[1 if name == label else 0 for name in names] for label in names]\n",
        "print(f'labels: {labels}')\n",
        "\n",
        "image_data = []\n",
        "for i in range(len(names)):\n",
        "    label = labels[i]\n",
        "    for image in images[i]:\n",
        "        image_data.append([image] + label) # put each image with it's label in iamge_data"
      ],
      "metadata": {
        "colab": {
          "base_uri": "https://localhost:8080/"
        },
        "id": "3n_Pb6e5wGJk",
        "outputId": "66579f02-25f4-4572-8a12-96c3dd6c2cb1"
      },
      "execution_count": 9,
      "outputs": [
        {
          "output_type": "stream",
          "name": "stdout",
          "text": [
            "labels: [[1, 0, 0, 0], [0, 1, 0, 0], [0, 0, 1, 0], [0, 0, 0, 1]]\n"
          ]
        }
      ]
    },
    {
      "cell_type": "code",
      "source": [
        "np.random.shuffle(image_data)\n",
        "data_size = len(image_data)\n",
        "\n",
        "train_data_size = int(data_size * 0.7)\n",
        "train = image_data[:train_data_size]\n",
        "\n",
        "validation_data_size = int(data_size * 0.15)\n",
        "validation = image_data[train_data_size:train_data_size + validation_data_size]\n",
        "\n",
        "test = image_data[train_data_size + validation_data_size:]\n",
        "\n",
        "print(len(train), len(validation), len(test), sep = \", \")"
      ],
      "metadata": {
        "colab": {
          "base_uri": "https://localhost:8080/"
        },
        "id": "2_mF2Grbx6t-",
        "outputId": "dd59b366-7e6b-434a-ad74-5cce57443c68"
      },
      "execution_count": 10,
      "outputs": [
        {
          "output_type": "stream",
          "name": "stdout",
          "text": [
            "1432, 306, 308\n"
          ]
        }
      ]
    },
    {
      "cell_type": "code",
      "source": [
        "x_train, y_train = [train[i][0] for i in range(len(train))], [train[i][1:] for i in range(len(train))]\n",
        "x_validation, y_validation = [validation[i][0] for i in range(len(validation))], [validation[i][1:] for i in range(len(validation))]\n",
        "x_test, y_test = [test[i][0] for i in range(len(test))], [test[i][1:] for i in range(len(test))]"
      ],
      "metadata": {
        "id": "YESQYXlqp3vw"
      },
      "execution_count": 11,
      "outputs": []
    },
    {
      "cell_type": "markdown",
      "source": [
        "GrayScaler."
      ],
      "metadata": {
        "id": "6xutV86eoTeq"
      }
    },
    {
      "cell_type": "code",
      "source": [
        "def grayscaler(image):\n",
        "  img = Image.open(image)\n",
        "  return img.convert('L')"
      ],
      "metadata": {
        "id": "RM_k8G9QoXpe"
      },
      "execution_count": 12,
      "outputs": []
    },
    {
      "cell_type": "markdown",
      "source": [
        "Apply scales to image_data."
      ],
      "metadata": {
        "id": "orZ4YJoi4OgV"
      }
    },
    {
      "cell_type": "code",
      "source": [
        "scaled_image_data = image_data.copy()\n",
        "\n",
        "# gray scaler\n",
        "scaled_image_data = list(map(lambda img: img.convert('L'), scaled_image_data))\n",
        "\n",
        "scaled_image_data"
      ],
      "metadata": {
        "colab": {
          "base_uri": "https://localhost:8080/",
          "height": 356
        },
        "id": "n95ocJogdHfP",
        "outputId": "3664be89-4ac6-423b-f7db-93f697ce49ee"
      },
      "execution_count": 13,
      "outputs": [
        {
          "output_type": "error",
          "ename": "AttributeError",
          "evalue": "ignored",
          "traceback": [
            "\u001b[0;31m---------------------------------------------------------------------------\u001b[0m",
            "\u001b[0;31mAttributeError\u001b[0m                            Traceback (most recent call last)",
            "\u001b[0;32m<ipython-input-13-8ec005f8f92b>\u001b[0m in \u001b[0;36m<module>\u001b[0;34m\u001b[0m\n\u001b[1;32m      2\u001b[0m \u001b[0;34m\u001b[0m\u001b[0m\n\u001b[1;32m      3\u001b[0m \u001b[0;31m# gray scaler\u001b[0m\u001b[0;34m\u001b[0m\u001b[0;34m\u001b[0m\u001b[0;34m\u001b[0m\u001b[0m\n\u001b[0;32m----> 4\u001b[0;31m \u001b[0mscaled_image_data\u001b[0m \u001b[0;34m=\u001b[0m \u001b[0mlist\u001b[0m\u001b[0;34m(\u001b[0m\u001b[0mmap\u001b[0m\u001b[0;34m(\u001b[0m\u001b[0;32mlambda\u001b[0m \u001b[0mimg\u001b[0m\u001b[0;34m:\u001b[0m \u001b[0mimg\u001b[0m\u001b[0;34m.\u001b[0m\u001b[0mconvert\u001b[0m\u001b[0;34m(\u001b[0m\u001b[0;34m'L'\u001b[0m\u001b[0;34m)\u001b[0m\u001b[0;34m,\u001b[0m \u001b[0mscaled_image_data\u001b[0m\u001b[0;34m)\u001b[0m\u001b[0;34m)\u001b[0m\u001b[0;34m\u001b[0m\u001b[0;34m\u001b[0m\u001b[0m\n\u001b[0m\u001b[1;32m      5\u001b[0m \u001b[0;34m\u001b[0m\u001b[0m\n\u001b[1;32m      6\u001b[0m \u001b[0mscaled_image_data\u001b[0m\u001b[0;34m\u001b[0m\u001b[0;34m\u001b[0m\u001b[0m\n",
            "\u001b[0;32m<ipython-input-13-8ec005f8f92b>\u001b[0m in \u001b[0;36m<lambda>\u001b[0;34m(img)\u001b[0m\n\u001b[1;32m      2\u001b[0m \u001b[0;34m\u001b[0m\u001b[0m\n\u001b[1;32m      3\u001b[0m \u001b[0;31m# gray scaler\u001b[0m\u001b[0;34m\u001b[0m\u001b[0;34m\u001b[0m\u001b[0;34m\u001b[0m\u001b[0m\n\u001b[0;32m----> 4\u001b[0;31m \u001b[0mscaled_image_data\u001b[0m \u001b[0;34m=\u001b[0m \u001b[0mlist\u001b[0m\u001b[0;34m(\u001b[0m\u001b[0mmap\u001b[0m\u001b[0;34m(\u001b[0m\u001b[0;32mlambda\u001b[0m \u001b[0mimg\u001b[0m\u001b[0;34m:\u001b[0m \u001b[0mimg\u001b[0m\u001b[0;34m.\u001b[0m\u001b[0mconvert\u001b[0m\u001b[0;34m(\u001b[0m\u001b[0;34m'L'\u001b[0m\u001b[0;34m)\u001b[0m\u001b[0;34m,\u001b[0m \u001b[0mscaled_image_data\u001b[0m\u001b[0;34m)\u001b[0m\u001b[0;34m)\u001b[0m\u001b[0;34m\u001b[0m\u001b[0;34m\u001b[0m\u001b[0m\n\u001b[0m\u001b[1;32m      5\u001b[0m \u001b[0;34m\u001b[0m\u001b[0m\n\u001b[1;32m      6\u001b[0m \u001b[0mscaled_image_data\u001b[0m\u001b[0;34m\u001b[0m\u001b[0;34m\u001b[0m\u001b[0m\n",
            "\u001b[0;31mAttributeError\u001b[0m: 'list' object has no attribute 'convert'"
          ]
        }
      ]
    },
    {
      "cell_type": "code",
      "source": [],
      "metadata": {
        "id": "E59dpZ1_4x_G"
      },
      "execution_count": 13,
      "outputs": []
    },
    {
      "cell_type": "markdown",
      "source": [
        "Install and import mlflow."
      ],
      "metadata": {
        "id": "CE2RdvpCTwcb"
      }
    },
    {
      "cell_type": "code",
      "source": [
        "!pip install mlflow\n",
        "\n",
        "import mlflow"
      ],
      "metadata": {
        "colab": {
          "base_uri": "https://localhost:8080/",
          "height": 1000
        },
        "id": "j39EWS_3TzaE",
        "outputId": "43fef825-ab73-4634-b252-6789a16c9ce9"
      },
      "execution_count": 14,
      "outputs": [
        {
          "output_type": "stream",
          "name": "stdout",
          "text": [
            "Looking in indexes: https://pypi.org/simple, https://us-python.pkg.dev/colab-wheels/public/simple/\n",
            "Collecting mlflow\n",
            "  Downloading mlflow-2.1.1-py3-none-any.whl (16.7 MB)\n",
            "\u001b[2K     \u001b[90m━━━━━━━━━━━━━━━━━━━━━━━━━━━━━━━━━━━━━━━━\u001b[0m \u001b[32m16.7/16.7 MB\u001b[0m \u001b[31m38.7 MB/s\u001b[0m eta \u001b[36m0:00:00\u001b[0m\n",
            "\u001b[?25hCollecting databricks-cli<1,>=0.8.7\n",
            "  Downloading databricks-cli-0.17.4.tar.gz (82 kB)\n",
            "\u001b[2K     \u001b[90m━━━━━━━━━━━━━━━━━━━━━━━━━━━━━━━━━━━━━━━━\u001b[0m \u001b[32m82.3/82.3 KB\u001b[0m \u001b[31m9.0 MB/s\u001b[0m eta \u001b[36m0:00:00\u001b[0m\n",
            "\u001b[?25h  Preparing metadata (setup.py) ... \u001b[?25l\u001b[?25hdone\n",
            "Requirement already satisfied: scikit-learn<2 in /usr/local/lib/python3.8/dist-packages (from mlflow) (1.0.2)\n",
            "Requirement already satisfied: Jinja2<4,>=2.11 in /usr/local/lib/python3.8/dist-packages (from mlflow) (2.11.3)\n",
            "Requirement already satisfied: numpy<2 in /usr/local/lib/python3.8/dist-packages (from mlflow) (1.21.6)\n",
            "Collecting querystring-parser<2\n",
            "  Downloading querystring_parser-1.2.4-py2.py3-none-any.whl (7.9 kB)\n",
            "Requirement already satisfied: sqlalchemy<2,>=1.4.0 in /usr/local/lib/python3.8/dist-packages (from mlflow) (1.4.46)\n",
            "Collecting gunicorn<21\n",
            "  Downloading gunicorn-20.1.0-py3-none-any.whl (79 kB)\n",
            "\u001b[2K     \u001b[90m━━━━━━━━━━━━━━━━━━━━━━━━━━━━━━━━━━━━━━━━\u001b[0m \u001b[32m79.5/79.5 KB\u001b[0m \u001b[31m9.2 MB/s\u001b[0m eta \u001b[36m0:00:00\u001b[0m\n",
            "\u001b[?25hRequirement already satisfied: pyyaml<7,>=5.1 in /usr/local/lib/python3.8/dist-packages (from mlflow) (6.0)\n",
            "Collecting gitpython<4,>=2.1.0\n",
            "  Downloading GitPython-3.1.30-py3-none-any.whl (184 kB)\n",
            "\u001b[2K     \u001b[90m━━━━━━━━━━━━━━━━━━━━━━━━━━━━━━━━━━━━━━\u001b[0m \u001b[32m184.0/184.0 KB\u001b[0m \u001b[31m20.3 MB/s\u001b[0m eta \u001b[36m0:00:00\u001b[0m\n",
            "\u001b[?25hRequirement already satisfied: scipy<2 in /usr/local/lib/python3.8/dist-packages (from mlflow) (1.7.3)\n",
            "Collecting alembic<2\n",
            "  Downloading alembic-1.9.2-py3-none-any.whl (210 kB)\n",
            "\u001b[2K     \u001b[90m━━━━━━━━━━━━━━━━━━━━━━━━━━━━━━━━━━━━━━\u001b[0m \u001b[32m210.6/210.6 KB\u001b[0m \u001b[31m21.0 MB/s\u001b[0m eta \u001b[36m0:00:00\u001b[0m\n",
            "\u001b[?25hRequirement already satisfied: click<9,>=7.0 in /usr/local/lib/python3.8/dist-packages (from mlflow) (7.1.2)\n",
            "Requirement already satisfied: cloudpickle<3 in /usr/local/lib/python3.8/dist-packages (from mlflow) (2.2.0)\n",
            "Requirement already satisfied: pandas<2 in /usr/local/lib/python3.8/dist-packages (from mlflow) (1.3.5)\n",
            "Requirement already satisfied: pytz<2023 in /usr/local/lib/python3.8/dist-packages (from mlflow) (2022.7)\n",
            "Requirement already satisfied: packaging<23 in /usr/local/lib/python3.8/dist-packages (from mlflow) (21.3)\n",
            "Requirement already satisfied: Flask<3 in /usr/local/lib/python3.8/dist-packages (from mlflow) (1.1.4)\n",
            "Requirement already satisfied: requests<3,>=2.17.3 in /usr/local/lib/python3.8/dist-packages (from mlflow) (2.25.1)\n",
            "Collecting docker<7,>=4.0.0\n",
            "  Downloading docker-6.0.1-py3-none-any.whl (147 kB)\n",
            "\u001b[2K     \u001b[90m━━━━━━━━━━━━━━━━━━━━━━━━━━━━━━━━━━━━━━\u001b[0m \u001b[32m147.5/147.5 KB\u001b[0m \u001b[31m15.3 MB/s\u001b[0m eta \u001b[36m0:00:00\u001b[0m\n",
            "\u001b[?25hRequirement already satisfied: entrypoints<1 in /usr/local/lib/python3.8/dist-packages (from mlflow) (0.4)\n",
            "Collecting shap<1,>=0.40\n",
            "  Downloading shap-0.41.0-cp38-cp38-manylinux_2_12_x86_64.manylinux2010_x86_64.whl (575 kB)\n",
            "\u001b[2K     \u001b[90m━━━━━━━━━━━━━━━━━━━━━━━━━━━━━━━━━━━━━━\u001b[0m \u001b[32m575.9/575.9 KB\u001b[0m \u001b[31m47.1 MB/s\u001b[0m eta \u001b[36m0:00:00\u001b[0m\n",
            "\u001b[?25hRequirement already satisfied: matplotlib<4 in /usr/local/lib/python3.8/dist-packages (from mlflow) (3.2.2)\n",
            "Requirement already satisfied: protobuf<5,>=3.12.0 in /usr/local/lib/python3.8/dist-packages (from mlflow) (3.19.6)\n",
            "Requirement already satisfied: pyarrow<11,>=4.0.0 in /usr/local/lib/python3.8/dist-packages (from mlflow) (9.0.0)\n",
            "Collecting importlib-metadata!=4.7.0,<6,>=3.7.0\n",
            "  Downloading importlib_metadata-5.2.0-py3-none-any.whl (21 kB)\n",
            "Requirement already satisfied: sqlparse<1,>=0.4.0 in /usr/local/lib/python3.8/dist-packages (from mlflow) (0.4.3)\n",
            "Requirement already satisfied: markdown<4,>=3.3 in /usr/local/lib/python3.8/dist-packages (from mlflow) (3.4.1)\n",
            "Collecting Mako\n",
            "  Downloading Mako-1.2.4-py3-none-any.whl (78 kB)\n",
            "\u001b[2K     \u001b[90m━━━━━━━━━━━━━━━━━━━━━━━━━━━━━━━━━━━━━━━━\u001b[0m \u001b[32m78.7/78.7 KB\u001b[0m \u001b[31m9.7 MB/s\u001b[0m eta \u001b[36m0:00:00\u001b[0m\n",
            "\u001b[?25hRequirement already satisfied: importlib-resources in /usr/local/lib/python3.8/dist-packages (from alembic<2->mlflow) (5.10.2)\n",
            "Collecting pyjwt>=1.7.0\n",
            "  Downloading PyJWT-2.6.0-py3-none-any.whl (20 kB)\n",
            "Requirement already satisfied: oauthlib>=3.1.0 in /usr/local/lib/python3.8/dist-packages (from databricks-cli<1,>=0.8.7->mlflow) (3.2.2)\n",
            "Requirement already satisfied: tabulate>=0.7.7 in /usr/local/lib/python3.8/dist-packages (from databricks-cli<1,>=0.8.7->mlflow) (0.8.10)\n",
            "Requirement already satisfied: six>=1.10.0 in /usr/local/lib/python3.8/dist-packages (from databricks-cli<1,>=0.8.7->mlflow) (1.15.0)\n",
            "Collecting urllib3>=1.26.0\n",
            "  Downloading urllib3-1.26.14-py2.py3-none-any.whl (140 kB)\n",
            "\u001b[2K     \u001b[90m━━━━━━━━━━━━━━━━━━━━━━━━━━━━━━━━━━━━━━\u001b[0m \u001b[32m140.6/140.6 KB\u001b[0m \u001b[31m15.3 MB/s\u001b[0m eta \u001b[36m0:00:00\u001b[0m\n",
            "\u001b[?25hCollecting requests<3,>=2.17.3\n",
            "  Downloading requests-2.28.2-py3-none-any.whl (62 kB)\n",
            "\u001b[2K     \u001b[90m━━━━━━━━━━━━━━━━━━━━━━━━━━━━━━━━━━━━━━━━\u001b[0m \u001b[32m62.8/62.8 KB\u001b[0m \u001b[31m6.9 MB/s\u001b[0m eta \u001b[36m0:00:00\u001b[0m\n",
            "\u001b[?25hCollecting websocket-client>=0.32.0\n",
            "  Downloading websocket_client-1.4.2-py3-none-any.whl (55 kB)\n",
            "\u001b[2K     \u001b[90m━━━━━━━━━━━━━━━━━━━━━━━━━━━━━━━━━━━━━━━━\u001b[0m \u001b[32m55.3/55.3 KB\u001b[0m \u001b[31m6.5 MB/s\u001b[0m eta \u001b[36m0:00:00\u001b[0m\n",
            "\u001b[?25hRequirement already satisfied: Werkzeug<2.0,>=0.15 in /usr/local/lib/python3.8/dist-packages (from Flask<3->mlflow) (1.0.1)\n",
            "Requirement already satisfied: itsdangerous<2.0,>=0.24 in /usr/local/lib/python3.8/dist-packages (from Flask<3->mlflow) (1.1.0)\n",
            "Collecting gitdb<5,>=4.0.1\n",
            "  Downloading gitdb-4.0.10-py3-none-any.whl (62 kB)\n",
            "\u001b[2K     \u001b[90m━━━━━━━━━━━━━━━━━━━━━━━━━━━━━━━━━━━━━━━━\u001b[0m \u001b[32m62.7/62.7 KB\u001b[0m \u001b[31m7.2 MB/s\u001b[0m eta \u001b[36m0:00:00\u001b[0m\n",
            "\u001b[?25hRequirement already satisfied: setuptools>=3.0 in /usr/local/lib/python3.8/dist-packages (from gunicorn<21->mlflow) (57.4.0)\n",
            "Requirement already satisfied: zipp>=0.5 in /usr/local/lib/python3.8/dist-packages (from importlib-metadata!=4.7.0,<6,>=3.7.0->mlflow) (3.11.0)\n",
            "Requirement already satisfied: MarkupSafe>=0.23 in /usr/local/lib/python3.8/dist-packages (from Jinja2<4,>=2.11->mlflow) (2.0.1)\n",
            "Requirement already satisfied: kiwisolver>=1.0.1 in /usr/local/lib/python3.8/dist-packages (from matplotlib<4->mlflow) (1.4.4)\n",
            "Requirement already satisfied: cycler>=0.10 in /usr/local/lib/python3.8/dist-packages (from matplotlib<4->mlflow) (0.11.0)\n",
            "Requirement already satisfied: pyparsing!=2.0.4,!=2.1.2,!=2.1.6,>=2.0.1 in /usr/local/lib/python3.8/dist-packages (from matplotlib<4->mlflow) (3.0.9)\n",
            "Requirement already satisfied: python-dateutil>=2.1 in /usr/local/lib/python3.8/dist-packages (from matplotlib<4->mlflow) (2.8.2)\n",
            "Requirement already satisfied: certifi>=2017.4.17 in /usr/local/lib/python3.8/dist-packages (from requests<3,>=2.17.3->mlflow) (2022.12.7)\n",
            "Requirement already satisfied: charset-normalizer<4,>=2 in /usr/local/lib/python3.8/dist-packages (from requests<3,>=2.17.3->mlflow) (2.1.1)\n",
            "Requirement already satisfied: idna<4,>=2.5 in /usr/local/lib/python3.8/dist-packages (from requests<3,>=2.17.3->mlflow) (2.10)\n",
            "Requirement already satisfied: threadpoolctl>=2.0.0 in /usr/local/lib/python3.8/dist-packages (from scikit-learn<2->mlflow) (3.1.0)\n",
            "Requirement already satisfied: joblib>=0.11 in /usr/local/lib/python3.8/dist-packages (from scikit-learn<2->mlflow) (1.2.0)\n",
            "Requirement already satisfied: numba in /usr/local/lib/python3.8/dist-packages (from shap<1,>=0.40->mlflow) (0.56.4)\n",
            "Collecting slicer==0.0.7\n",
            "  Downloading slicer-0.0.7-py3-none-any.whl (14 kB)\n",
            "Requirement already satisfied: tqdm>4.25.0 in /usr/local/lib/python3.8/dist-packages (from shap<1,>=0.40->mlflow) (4.64.1)\n",
            "Requirement already satisfied: greenlet!=0.4.17 in /usr/local/lib/python3.8/dist-packages (from sqlalchemy<2,>=1.4.0->mlflow) (2.0.1)\n",
            "Collecting smmap<6,>=3.0.1\n",
            "  Downloading smmap-5.0.0-py3-none-any.whl (24 kB)\n",
            "Requirement already satisfied: llvmlite<0.40,>=0.39.0dev0 in /usr/local/lib/python3.8/dist-packages (from numba->shap<1,>=0.40->mlflow) (0.39.1)\n",
            "Building wheels for collected packages: databricks-cli\n",
            "  Building wheel for databricks-cli (setup.py) ... \u001b[?25l\u001b[?25hdone\n",
            "  Created wheel for databricks-cli: filename=databricks_cli-0.17.4-py3-none-any.whl size=142894 sha256=dc7a68a6538bff80ba8ccaded25875d20e876f2ea6f26f531b904b28ea1687ff\n",
            "  Stored in directory: /root/.cache/pip/wheels/48/7c/6e/4bf2c1748c7ecf994ca951591de81674ed6bf633e1e337d873\n",
            "Successfully built databricks-cli\n",
            "Installing collected packages: websocket-client, urllib3, smmap, slicer, querystring-parser, pyjwt, Mako, importlib-metadata, gunicorn, requests, gitdb, alembic, shap, gitpython, docker, databricks-cli, mlflow\n",
            "  Attempting uninstall: urllib3\n",
            "    Found existing installation: urllib3 1.24.3\n",
            "    Uninstalling urllib3-1.24.3:\n",
            "      Successfully uninstalled urllib3-1.24.3\n",
            "  Attempting uninstall: importlib-metadata\n",
            "    Found existing installation: importlib-metadata 6.0.0\n",
            "    Uninstalling importlib-metadata-6.0.0:\n",
            "      Successfully uninstalled importlib-metadata-6.0.0\n",
            "  Attempting uninstall: requests\n",
            "    Found existing installation: requests 2.25.1\n",
            "    Uninstalling requests-2.25.1:\n",
            "      Successfully uninstalled requests-2.25.1\n",
            "Successfully installed Mako-1.2.4 alembic-1.9.2 databricks-cli-0.17.4 docker-6.0.1 gitdb-4.0.10 gitpython-3.1.30 gunicorn-20.1.0 importlib-metadata-5.2.0 mlflow-2.1.1 pyjwt-2.6.0 querystring-parser-1.2.4 requests-2.28.2 shap-0.41.0 slicer-0.0.7 smmap-5.0.0 urllib3-1.26.14 websocket-client-1.4.2\n"
          ]
        },
        {
          "output_type": "display_data",
          "data": {
            "application/vnd.colab-display-data+json": {
              "pip_warning": {
                "packages": [
                  "requests",
                  "urllib3"
                ]
              }
            }
          },
          "metadata": {}
        }
      ]
    },
    {
      "cell_type": "markdown",
      "source": [
        "Define mlflow functions."
      ],
      "metadata": {
        "id": "JCBVMbeRU--Z"
      }
    },
    {
      "cell_type": "code",
      "source": [
        "def log_param(key, value):\n",
        "    mlflow.load_param(key, value)\n",
        "\n",
        "\n",
        "def log_metric(key, value):\n",
        "    mlflow.log_metric(key, value)\n",
        "\n",
        "\n",
        "def log_plot(plot_file):\n",
        "    mlflow.log_artifact(plot_file)\n",
        "\n",
        "\n",
        "def log_model(model):\n",
        "    mlflow.tensorflow.log_model(model, 'model')\n"
      ],
      "metadata": {
        "id": "bzgjt78RUMc_"
      },
      "execution_count": 15,
      "outputs": []
    },
    {
      "cell_type": "markdown",
      "source": [
        "Modeling.\n",
        "\n",
        "Consist of 2 parts:\n",
        "\n",
        "*   Combination of some Convolutional and Pooling layers\n",
        "*   Some Fully-Connected layers\n",
        "\n",
        "> ***Layers***\n",
        "\n",
        "Convolution Layer:\n",
        "*   is the main building block of a CNN\n",
        "*   it contains a set of filters, parameters of which are to be learned throughout the training\n",
        "*   the size of the filters is usually smaller than the actual image\n",
        "\n",
        "Max Pooling Layer:\n",
        "*    is a pooling operation that calculates the maximum value for patches of a feature map\n",
        "*    it used to create a downsampled feature map\n",
        "\n",
        "Dropout Layer:\n",
        "*   randomly exclude X% of the neurons in the layer to avoid overfitting\n",
        "\n",
        "Flatten Layer:\n",
        "*   converts the 2D matrix data into a vector\n",
        "*   it allows the output to be fully processed by a fully connected layer\n",
        "\n",
        "Dense Layer:\n",
        "*   feeds all outputs from the previous layer to all its neurons, each neuron providing one output to the next layer\n",
        "\n",
        "> ***Activation Functions***\n",
        "\n",
        "RELU Activation Function:\n",
        "*    is a piecewise linear function that will output the input directly if it is positive, otherwise, it will output zero\n",
        "\n",
        "Softmax Activation Function:\n",
        "*   output probability-like predictions for each class"
      ],
      "metadata": {
        "id": "rilSkyHITzqG"
      }
    },
    {
      "cell_type": "code",
      "source": [
        "with mlflow.start_run():  \n",
        "\n",
        "    model = Sequential()\n",
        "    input_shape = (100, 100, 3)\n",
        "\n",
        "    relu = tf.nn.relu\n",
        "    softmax = tf.nn.softmax\n",
        "\n",
        "    model.add(Conv2D(32, kernel_size = (3, 3), input_shape = input_shape, activation = relu))\n",
        "    model.add(MaxPooling2D(pool_size = (2, 2)))\n",
        "    model.add(Dropout(0.2))\n",
        "\n",
        "    model.add(Conv2D(32 * 2, kernel_size = (3, 3), input_shape = input_shape, activation = relu))\n",
        "    model.add(MaxPooling2D(pool_size = (2, 2)))\n",
        "    model.add(Dropout(0.2))\n",
        "\n",
        "    model.add(Conv2D(32 * 2 * 2, kernel_size = (3, 3), input_shape = input_shape, activation = relu))\n",
        "    model.add(MaxPooling2D(pool_size = (2, 2)))\n",
        "    model.add(Dropout(0.2))\n",
        "\n",
        "    model.add(Flatten())\n",
        "    model.add(Dense(128, activation = relu))\n",
        "    model.add(Dropout(0.2))\n",
        "    model.add(Dense(len(names), activation = softmax))\n",
        "\n",
        "    # log to mlflow\n",
        "    log_model(model)\n",
        "\n",
        "    # summary\n",
        "    model.summary()\n",
        "\n",
        "    # compile CNN\n",
        "    model.compile(\n",
        "        optimizer = 'adam',\n",
        "        loss = 'categorical_crossentropy',\n",
        "        metrics = ['accuracy']\n",
        "    )\n",
        "\n",
        "    fit_result = model.fit(np.array(x_train), np.array(y_train), validation_data= (np.array(x_validation), np.array(y_validation)), epochs=17)"
      ],
      "metadata": {
        "id": "77BVz9XdT25X",
        "colab": {
          "base_uri": "https://localhost:8080/"
        },
        "outputId": "8d4fb97d-cf9c-4a8d-ce1d-9f7223f798cb"
      },
      "execution_count": 16,
      "outputs": [
        {
          "output_type": "stream",
          "name": "stderr",
          "text": [
            "2023/01/24 18:16:56 WARNING mlflow.tensorflow: You are saving a TensorFlow Core model or Keras model without a signature. Inference with mlflow.pyfunc.spark_udf() will not work unless the model's pyfunc representation accepts pandas DataFrames as inference inputs.\n",
            "WARNING:tensorflow:Compiled the loaded model, but the compiled metrics have yet to be built. `model.compile_metrics` will be empty until you train or evaluate the model.\n",
            "WARNING:absl:Found untraced functions such as _jit_compiled_convolution_op, _jit_compiled_convolution_op, _jit_compiled_convolution_op while saving (showing 3 of 3). These functions will not be directly callable after loading.\n",
            "2023/01/24 18:17:05 WARNING mlflow.utils.environment: Encountered an unexpected error while inferring pip requirements (model URI: /tmp/tmpl47lna17/model, flavor: tensorflow), fall back to return ['tensorflow==2.9.2']. Set logging level to DEBUG to see the full traceback.\n"
          ]
        },
        {
          "output_type": "stream",
          "name": "stdout",
          "text": [
            "Model: \"sequential\"\n",
            "_________________________________________________________________\n",
            " Layer (type)                Output Shape              Param #   \n",
            "=================================================================\n",
            " conv2d (Conv2D)             (None, 98, 98, 32)        896       \n",
            "                                                                 \n",
            " max_pooling2d (MaxPooling2D  (None, 49, 49, 32)       0         \n",
            " )                                                               \n",
            "                                                                 \n",
            " dropout (Dropout)           (None, 49, 49, 32)        0         \n",
            "                                                                 \n",
            " conv2d_1 (Conv2D)           (None, 47, 47, 64)        18496     \n",
            "                                                                 \n",
            " max_pooling2d_1 (MaxPooling  (None, 23, 23, 64)       0         \n",
            " 2D)                                                             \n",
            "                                                                 \n",
            " dropout_1 (Dropout)         (None, 23, 23, 64)        0         \n",
            "                                                                 \n",
            " conv2d_2 (Conv2D)           (None, 21, 21, 128)       73856     \n",
            "                                                                 \n",
            " max_pooling2d_2 (MaxPooling  (None, 10, 10, 128)      0         \n",
            " 2D)                                                             \n",
            "                                                                 \n",
            " dropout_2 (Dropout)         (None, 10, 10, 128)       0         \n",
            "                                                                 \n",
            " flatten (Flatten)           (None, 12800)             0         \n",
            "                                                                 \n",
            " dense (Dense)               (None, 128)               1638528   \n",
            "                                                                 \n",
            " dropout_3 (Dropout)         (None, 128)               0         \n",
            "                                                                 \n",
            " dense_1 (Dense)             (None, 4)                 516       \n",
            "                                                                 \n",
            "=================================================================\n",
            "Total params: 1,732,292\n",
            "Trainable params: 1,732,292\n",
            "Non-trainable params: 0\n",
            "_________________________________________________________________\n",
            "Epoch 1/17\n",
            "45/45 [==============================] - 42s 908ms/step - loss: 26.6934 - accuracy: 0.2661 - val_loss: 1.3847 - val_accuracy: 0.2255\n",
            "Epoch 2/17\n",
            "45/45 [==============================] - 31s 676ms/step - loss: 1.3737 - accuracy: 0.2765 - val_loss: 1.3733 - val_accuracy: 0.3235\n",
            "Epoch 3/17\n",
            "45/45 [==============================] - 27s 611ms/step - loss: 1.3714 - accuracy: 0.2898 - val_loss: 1.3661 - val_accuracy: 0.3105\n",
            "Epoch 4/17\n",
            "45/45 [==============================] - 28s 613ms/step - loss: 1.3429 - accuracy: 0.3184 - val_loss: 1.3615 - val_accuracy: 0.2843\n",
            "Epoch 5/17\n",
            "45/45 [==============================] - 29s 640ms/step - loss: 1.3121 - accuracy: 0.3610 - val_loss: 1.3528 - val_accuracy: 0.2974\n",
            "Epoch 6/17\n",
            "45/45 [==============================] - 28s 613ms/step - loss: 1.2910 - accuracy: 0.3876 - val_loss: 1.3852 - val_accuracy: 0.3464\n",
            "Epoch 7/17\n",
            "45/45 [==============================] - 27s 612ms/step - loss: 1.2565 - accuracy: 0.4253 - val_loss: 1.3994 - val_accuracy: 0.2974\n",
            "Epoch 8/17\n",
            "45/45 [==============================] - 28s 614ms/step - loss: 1.1839 - accuracy: 0.4469 - val_loss: 1.4028 - val_accuracy: 0.3464\n",
            "Epoch 9/17\n",
            "45/45 [==============================] - 27s 610ms/step - loss: 1.1389 - accuracy: 0.4818 - val_loss: 1.4265 - val_accuracy: 0.3627\n",
            "Epoch 10/17\n",
            "45/45 [==============================] - 27s 611ms/step - loss: 1.0585 - accuracy: 0.5426 - val_loss: 1.3196 - val_accuracy: 0.4510\n",
            "Epoch 11/17\n",
            "45/45 [==============================] - 27s 610ms/step - loss: 0.9811 - accuracy: 0.5642 - val_loss: 1.3997 - val_accuracy: 0.4379\n",
            "Epoch 12/17\n",
            "45/45 [==============================] - 27s 609ms/step - loss: 0.9415 - accuracy: 0.5922 - val_loss: 1.3656 - val_accuracy: 0.4379\n",
            "Epoch 13/17\n",
            "45/45 [==============================] - 28s 613ms/step - loss: 0.8584 - accuracy: 0.6425 - val_loss: 1.3051 - val_accuracy: 0.4902\n",
            "Epoch 14/17\n",
            "45/45 [==============================] - 27s 611ms/step - loss: 0.7883 - accuracy: 0.6802 - val_loss: 1.3457 - val_accuracy: 0.4869\n",
            "Epoch 15/17\n",
            "45/45 [==============================] - 28s 611ms/step - loss: 0.7716 - accuracy: 0.6962 - val_loss: 1.3741 - val_accuracy: 0.4673\n",
            "Epoch 16/17\n",
            "45/45 [==============================] - 28s 614ms/step - loss: 0.6734 - accuracy: 0.7318 - val_loss: 1.4180 - val_accuracy: 0.5033\n",
            "Epoch 17/17\n",
            "45/45 [==============================] - 27s 612ms/step - loss: 0.5973 - accuracy: 0.7500 - val_loss: 1.3945 - val_accuracy: 0.5294\n"
          ]
        }
      ]
    },
    {
      "cell_type": "markdown",
      "source": [
        "Showing plot."
      ],
      "metadata": {
        "id": "SETJQ399tWVF"
      }
    },
    {
      "cell_type": "code",
      "source": [
        "#plot the training and validation accuracy and loss at each epoch\n",
        "loss = fit_result.history['loss']\n",
        "val_loss = fit_result.history['val_loss']\n",
        "epochs = range(1, len(loss) + 1)\n",
        "plt.plot(epochs, loss, 'y', label='Training loss')\n",
        "plt.plot(epochs, val_loss, 'r', label='Validation loss')\n",
        "plt.title('Training and validation loss')\n",
        "plt.xlabel('Epochs')\n",
        "plt.ylabel('Loss')\n",
        "plt.legend()\n",
        "plt.show()"
      ],
      "metadata": {
        "id": "jykVeFyCec2H",
        "colab": {
          "base_uri": "https://localhost:8080/",
          "height": 295
        },
        "outputId": "e181c8dd-5893-4845-cf9a-260e38d76b0d"
      },
      "execution_count": 17,
      "outputs": [
        {
          "output_type": "display_data",
          "data": {
            "text/plain": [
              "<Figure size 432x288 with 1 Axes>"
            ],
            "image/png": "[encoded data removed]"
          },
          "metadata": {
            "needs_background": "light"
          }
        }
      ]
    },
    {
      "cell_type": "code",
      "source": [
        "test_loss, test_acc = model.evaluate(np.array(x_test), np.array(y_test), verbose=2)\n",
        "print(test_loss, test_acc)"
      ],
      "metadata": {
        "colab": {
          "base_uri": "https://localhost:8080/"
        },
        "id": "UlMX2j_c_uKZ",
        "outputId": "6bd1b147-7515-4df8-8c9d-5eb28b6c7fea"
      },
      "execution_count": 22,
      "outputs": [
        {
          "output_type": "stream",
          "name": "stdout",
          "text": [
            "10/10 - 3s - loss: 1.5198 - accuracy: 0.5000 - 3s/epoch - 322ms/step\n",
            "1.5197762250900269 0.5\n"
          ]
        }
      ]
    }
  ]
}